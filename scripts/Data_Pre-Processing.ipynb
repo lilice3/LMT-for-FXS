{
 "cells": [
  {
   "cell_type": "markdown",
   "metadata": {},
   "source": [
    "## Data Pre-Processing\n",
    "This notebook allows a simple pre-processing of the data, necessary for behavioral analysis. The steps enable the computation of a day-time frame, save the mice's genotype in the database, set the Water point position and return the total distance travelled."
   ]
  },
  {
   "cell_type": "code",
   "execution_count": 3,
   "metadata": {},
   "outputs": [],
   "source": [
    "%matplotlib inline\n",
    "\n",
    "import sys\n",
    "sys.path.insert(1, \"../\")\n",
    "\n",
    "\n",
    "import pandas as pd\n",
    "import numpy as np\n",
    "import time\n",
    "from datetime import *\n",
    "import sqlite3\n",
    "from lmtanalysis.FileUtil import getFilesToProcess\n",
    "import matplotlib.pyplot as plt\n",
    "import colorsys\n",
    "from collections import Counter\n",
    "import seaborn as sns\n",
    "\n",
    "from lmtanalysis.Animal import *\n",
    "from lmtanalysis.Measure import *\n",
    "import matplotlib.pyplot as plt\n",
    "from lmtanalysis.Event import *\n",
    "from lmtanalysis.Util import *\n",
    "from scripts.InteractionMatrix import *\n",
    "from lmtanalysis import BuildEventTrain3, BuildEventTrain4, BuildEventFollowZone, BuildEventRear5, BuildEventFloorSniffing,\\\n",
    "    BuildEventSocialApproach, BuildEventSocialEscape, BuildEventApproachContact,\\\n",
    "    BuildEventApproachRear, BuildEventGroup2, BuildEventGroup3, BuildEventGroup4,\\\n",
    "    BuildEventStop, BuildEventWaterPoint\n",
    "\n",
    "from tkinter.filedialog import askopenfilename\n",
    "from lmtanalysis.EventTimeLineCache import EventTimeLineCached"
   ]
  },
  {
   "cell_type": "markdown",
   "metadata": {},
   "source": [
    "Ask file to process"
   ]
  },
  {
   "cell_type": "code",
   "execution_count": 4,
   "metadata": {
    "scrolled": true
   },
   "outputs": [
    {
     "name": "stdout",
     "output_type": "stream",
     "text": [
      "Select file name in window\n"
     ]
    }
   ],
   "source": [
    "print( \"Select file name in window\" )\n",
    "files = getFilesToProcess()"
   ]
  },
  {
   "cell_type": "markdown",
   "metadata": {},
   "source": [
    "## Manual Night Input Parameters\n",
    "To configure nights manually, you will need to input the corresponding frame numbers. \n",
    "The first cell provides the beginning and end of the experiment. The second cell displays the different nights (dark phase) beginning in numbers of frame. These have to be feed in the 3rd code. "
   ]
  },
  {
   "cell_type": "code",
   "execution_count": 3,
   "metadata": {
    "scrolled": false
   },
   "outputs": [
    {
     "name": "stdout",
     "output_type": "stream",
     "text": [
      "Starting time 2020-06-06 11:45:06.058000\n",
      "Ending Time 2020-06-08 10:54:26.324000\n"
     ]
    }
   ],
   "source": [
    "#Display starting and ending time of the experiment\n",
    "\n",
    "for file in files:\n",
    "    connection = sqlite3.connect( file )\n",
    "    start = getStartInDatetime( file )\n",
    "    print ( \"Starting time\", start )\n",
    "    \n",
    "    end = getEndInDatetime(file)\n",
    "    print ( \"Ending Time\", end )\n",
    "        "
   ]
  },
  {
   "cell_type": "code",
   "execution_count": 4,
   "metadata": {},
   "outputs": [
    {
     "name": "stdout",
     "output_type": "stream",
     "text": [
      "1st Dark phase end frame 782790\n",
      "2nd Dark phase start frame 2078790\n",
      "2nd Dark phase end frame 3374790\n",
      "3rd Dark phase start frame 4670790\n",
      "End of 3rd dark phase 5966790\n"
     ]
    }
   ],
   "source": [
    "    #MANUAL INPUT : Make sure to put the correct day of experiment start in the 'then' parameter\n",
    "    then = datetime.datetime(2020, 6, 6, 19, 0, 0)  \n",
    "    duration = then - start                        \n",
    "    duration_in_s = int(duration.total_seconds())\n",
    "    duration_in_frames = duration_in_s*30\n",
    "    night_1st_end = duration_in_frames + 1296000\n",
    "    night_2nd_start = night_1st_end + 1296000\n",
    "    night_2nd_end = night_2nd_start + 1296000\n",
    "    night_3nd_start = night_2nd_end + 1296000\n",
    "    print ( \"1st Dark phase end frame\", duration_in_frames)\n",
    "    print ( \"2nd Dark phase start frame\", night_1st_end )\n",
    "    print ( \"2nd Dark phase end frame\", night_2nd_start)\n",
    "    print ( \"3rd Dark phase start frame\", night_2nd_end )\n",
    "    print ( \"End of 3rd dark phase\", night_3nd_start )"
   ]
  },
  {
   "cell_type": "markdown",
   "metadata": {},
   "source": [
    "## Manual Night Input\n",
    "The previous values are now used to save the dark phases of the experiment into the database."
   ]
  },
  {
   "cell_type": "code",
   "execution_count": 5,
   "metadata": {},
   "outputs": [
    {
     "name": "stdout",
     "output_type": "stream",
     "text": [
      "Code launched.\n",
      "Processing file D:/live mouse tracker data/Experiment 20/Experiment 20.sqlite\n",
      "--------------\n",
      "Current file:  D:/live mouse tracker data/Experiment 20/Experiment 20.sqlite\n",
      "Loading existing events...\n",
      "night  Id( None , None , None , None ) Min/maxFrame: ( None / None ) Loaded ( 2  records loaded in  84.85777568817139 S )\n",
      "--------------\n",
      "Event list:\n",
      "Event\tstart:\t782816\tend:\t2078818\n",
      "Event\tstart:\t3374790\tend:\t4670785\n",
      "--------------\n",
      "remove existing nights [Y/N] ? :N\n",
      "Keeping existing nights.\n",
      "Manually add night event:\n",
      "Start Frame (return to stop) : \n",
      "*** ALL JOBS DONE ***\n"
     ]
    }
   ],
   "source": [
    "#Manual Night Input, enter the values computed above\n",
    "\n",
    "from lmtanalysis.Util import convert_to_d_h_m_s, getFrameInput\n",
    "\n",
    "class FileProcessException(Exception):\n",
    "    pass\n",
    "\n",
    "   \n",
    "def process( file ):\n",
    "    \n",
    "    connection = sqlite3.connect( file )     \n",
    "\n",
    "    print( \"--------------\")\n",
    "    print( \"Current file: \", file )\n",
    "    print( \"Loading existing events...\")\n",
    "    nightTimeLine = EventTimeLine( connection, \"night\" , None, None, None , None )        \n",
    "    \n",
    "    \n",
    "    print( \"--------------\")    \n",
    "    print( \"Event list:\" )\n",
    "    for event in nightTimeLine.eventList:\n",
    "        print( event )\n",
    "    print( \"--------------\")\n",
    "    \n",
    "    answer = input(\"remove existing nights [Y/N] ? :\")\n",
    "    if answer.lower() == \"y\":\n",
    "        print(\"Removing existing nights\")\n",
    "        nightTimeLine.eventList.clear();\n",
    "        nightTimeLine.endRebuildEventTimeLine(connection, deleteExistingEvent = True )\n",
    "    else:\n",
    "        print(\"Keeping existing nights.\")\n",
    "    \n",
    "    nightTimeLine.eventList.clear();\n",
    "    \n",
    "    while True:\n",
    "        print( \"Manually add night event:\")\n",
    "        startFrame = getFrameInput(\"Start Frame (return to stop)\")\n",
    "        if startFrame==None:\n",
    "            return\n",
    "        \n",
    "        endFrame = getFrameInput(\"End Frame (return to stop)\")\n",
    "        if endFrame==None:\n",
    "            return\n",
    "        \n",
    "        nightTimeLine.addEvent( Event( int(startFrame), int(endFrame) ) )\n",
    "        nightTimeLine.endRebuildEventTimeLine(connection, deleteExistingEvent = True )\n",
    "\n",
    "\n",
    "\n",
    "print(\"Code launched.\")\n",
    "\n",
    "files = getFilesToProcess()\n",
    "\n",
    "chronoFullBatch = Chronometer(\"Full batch\" )    \n",
    "\n",
    "if ( files != None ):\n",
    "\n",
    "    for file in files:\n",
    "        try:\n",
    "            print ( \"Processing file\" , file )\n",
    "            process( file )\n",
    "        except FileProcessException:\n",
    "            print ( \"STOP PROCESSING FILE \" + file , file=sys.stderr  )\n",
    "\n",
    "print( \"*** ALL JOBS DONE ***\")\n",
    "        "
   ]
  },
  {
   "cell_type": "code",
   "execution_count": 6,
   "metadata": {},
   "outputs": [
    {
     "name": "stdout",
     "output_type": "stream",
     "text": [
      "---------------\n",
      "Current file:  D:/live mouse tracker data/Experiment 18/Experiment 18.sqlite\n",
      "Loading animals.\n",
      "Fields available in lmtanalysis:  ['ID', 'RFID', 'GENOTYPE', 'NAME']\n",
      "SQL Query: SELECT ID,RFID,NAME,GENOTYPE FROM ANIMAL ORDER BY GENOTYPE\n",
      "Animal Id:1 Name:A RFID:000022986511 Genotype:None User1:None\n",
      "Animal Id:2 Name:B RFID:RFID_B Genotype:None User1:None\n",
      "****\n",
      "Type new genotype for RFID 000022986511 Current Genotype: None ([Enter] to keep existing one):KO\n",
      "setting  KO  to  000022986511\n",
      "****\n",
      "Type new genotype for RFID RFID_B Current Genotype: None ([Enter] to keep existing one):KO\n",
      "setting  KO  to  RFID_B\n",
      "Genotype saved in database.\n"
     ]
    }
   ],
   "source": [
    "# Set Genotype\n",
    "#WARNING ! The genotypes have to be entered in the format \"KO\" for Knock-out and \"WT\" for control\n",
    "for file in files:\n",
    "    \n",
    "    print(\"---------------\")\n",
    "    print(\"Current file: \" , file )\n",
    "    \n",
    "    connection = sqlite3.connect( file )\n",
    "    \n",
    "    pool = AnimalPool( )\n",
    "    pool.loadAnimals( connection )\n",
    "    \n",
    "    for animal in pool.getAnimalList():\n",
    "        print( \"****\")\n",
    "        \n",
    "        genotype = input( \"Type new genotype for RFID \"+ str(animal.RFID)+ \" Current Genotype: \" + str(animal.genotype) + \" ([Enter] to keep existing one):\")\n",
    "        genotype = genotype.strip()\n",
    "        if len(genotype) > 0:\n",
    "            print(\"setting \", genotype , \" to \" , animal.RFID )\n",
    "            animal.setGenotype( genotype )\n",
    "        else:\n",
    "            print( \"keeping genotype\", animal.genotype )\n",
    "        \n",
    "    print(\"Genotype saved in database.\")"
   ]
  },
  {
   "cell_type": "markdown",
   "metadata": {},
   "source": [
    "## Water point\n",
    "The following command defines the coordinates of the water bottle. \n",
    "This position can be modified in the python file \"BuildEventWaterPoint.py\" in the 'scripts' folder. "
   ]
  },
  {
   "cell_type": "code",
   "execution_count": 9,
   "metadata": {},
   "outputs": [],
   "source": [
    "#Set the position of the water bottle\n",
    "\n",
    "%run ./BuildEventWaterPoint.py"
   ]
  },
  {
   "cell_type": "markdown",
   "metadata": {},
   "source": [
    "## Total distance travelled\n",
    "As a pre-processing of the data, the following command displays the total distance traveled during the time defined, in the surface defined. These parameters can be modified in the code below. "
   ]
  },
  {
   "cell_type": "code",
   "execution_count": 5,
   "metadata": {},
   "outputs": [
    {
     "name": "stdout",
     "output_type": "stream",
     "text": [
      "Loading animals.\n",
      "Fields available in lmtanalysis:  ['ID', 'RFID', 'GENOTYPE', 'NAME']\n",
      "SQL Query: SELECT ID,RFID,NAME,GENOTYPE FROM ANIMAL ORDER BY GENOTYPE\n",
      "Animal Id:2 Name:B RFID:000022986392 Genotype:KO User1:None\n",
      "Animal Id:3 Name:C RFID:000022986491 Genotype:KO User1:None\n",
      "Animal Id:1 Name:A RFID:000022986387 Genotype:WT User1:None\n",
      "Animal Id:4 Name:D RFID:000022986562 Genotype:WT User1:None\n",
      "Animal Id:2 Name:B RFID:000022986392 Genotype:KO User1:None : Loading detection.\n",
      "SELECT FRAMENUMBER, MASS_X, MASS_Y, MASS_Z, FRONT_X, FRONT_Y, FRONT_Z, BACK_X, BACK_Y, BACK_Z,REARING,LOOK_UP,LOOK_DOWN FROM DETECTION WHERE ANIMALID=2 AND FRAMENUMBER>=0 AND FRAMENUMBER<=5184000\n",
      "Animal Id:2 Name:B RFID:000022986392 Genotype:KO User1:None   3315827  detections loaded in 773.1812393665314 seconds.\n",
      "Animal Id:3 Name:C RFID:000022986491 Genotype:KO User1:None : Loading detection.\n",
      "SELECT FRAMENUMBER, MASS_X, MASS_Y, MASS_Z, FRONT_X, FRONT_Y, FRONT_Z, BACK_X, BACK_Y, BACK_Z,REARING,LOOK_UP,LOOK_DOWN FROM DETECTION WHERE ANIMALID=3 AND FRAMENUMBER>=0 AND FRAMENUMBER<=5184000\n",
      "Animal Id:3 Name:C RFID:000022986491 Genotype:KO User1:None   3309511  detections loaded in 187.6174132823944 seconds.\n",
      "Animal Id:1 Name:A RFID:000022986387 Genotype:WT User1:None : Loading detection.\n",
      "SELECT FRAMENUMBER, MASS_X, MASS_Y, MASS_Z, FRONT_X, FRONT_Y, FRONT_Z, BACK_X, BACK_Y, BACK_Z,REARING,LOOK_UP,LOOK_DOWN FROM DETECTION WHERE ANIMALID=1 AND FRAMENUMBER>=0 AND FRAMENUMBER<=5184000\n",
      "Animal Id:1 Name:A RFID:000022986387 Genotype:WT User1:None   3113734  detections loaded in 159.75868606567383 seconds.\n",
      "Animal Id:4 Name:D RFID:000022986562 Genotype:WT User1:None : Loading detection.\n",
      "SELECT FRAMENUMBER, MASS_X, MASS_Y, MASS_Z, FRONT_X, FRONT_Y, FRONT_Z, BACK_X, BACK_Y, BACK_Z,REARING,LOOK_UP,LOOK_DOWN FROM DETECTION WHERE ANIMALID=4 AND FRAMENUMBER>=0 AND FRAMENUMBER<=5184000\n",
      "Animal Id:4 Name:D RFID:000022986562 Genotype:WT User1:None   3531654  detections loaded in 203.81137251853943 seconds.\n",
      "Animal :  000022986392\n",
      "Compute total distance min:0 max:None \n",
      "Distance traveled in area: (in centimeter):  513609.44275595195\n",
      "Animal :  000022986491\n",
      "Compute total distance min:0 max:None \n",
      "Distance traveled in area: (in centimeter):  587682.1723292454\n",
      "Animal :  000022986387\n",
      "Compute total distance min:0 max:None \n",
      "Distance traveled in area: (in centimeter):  447823.92421930993\n",
      "Animal :  000022986562\n",
      "Compute total distance min:0 max:None \n",
      "Distance traveled in area: (in centimeter):  543461.7182117384\n"
     ]
    }
   ],
   "source": [
    "#Prompt the distance travelled\n",
    "\n",
    "for file in files:\n",
    "    # connect to database\n",
    "    connection = sqlite3.connect( file )\n",
    "    # create an animalPool, which basically contains your animals\n",
    "    animalPool = AnimalPool()\n",
    "    # load infos about the animals\n",
    "    animalPool.loadAnimals( connection )       \n",
    "    # load all detection (positions) of all animals for defined time\n",
    "    # accepted formats are : number of frames, oneMinute, oneDay\n",
    "    animalPool.loadDetection( start = 0, end = 2*oneDay )\n",
    "    # filter detection by area (in cm from the top left of the cage, x1, y1, x2, y2)\n",
    "    #animalPool.filterDetectionByArea( 20, 20, 30, 30 );\n",
    "        \n",
    "    for animal in animalPool.getAnimalList():\n",
    "            \n",
    "            # print RFID of animal\n",
    "            print ( \"Animal : \" , animal.RFID )\n",
    "            # distance traveled by animal (in cm):            \n",
    "            print( \"Distance traveled in area: (in centimeter): \" , animal.getDistance( ) )"
   ]
  },
  {
   "cell_type": "code",
   "execution_count": null,
   "metadata": {},
   "outputs": [],
   "source": []
  }
 ],
 "metadata": {
  "kernelspec": {
   "display_name": "Python 3",
   "language": "python",
   "name": "python3"
  },
  "language_info": {
   "codemirror_mode": {
    "name": "ipython",
    "version": 3
   },
   "file_extension": ".py",
   "mimetype": "text/x-python",
   "name": "python",
   "nbconvert_exporter": "python",
   "pygments_lexer": "ipython3",
   "version": "3.7.5"
  }
 },
 "nbformat": 4,
 "nbformat_minor": 2
}
